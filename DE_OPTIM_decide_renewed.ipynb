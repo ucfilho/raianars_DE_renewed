{
  "nbformat": 4,
  "nbformat_minor": 0,
  "metadata": {
    "colab": {
      "name": "DE_OPTIM_decide_renewed.ipynb",
      "provenance": [],
      "collapsed_sections": [],
      "include_colab_link": true
    },
    "kernelspec": {
      "name": "python3",
      "display_name": "Python 3"
    },
    "language_info": {
      "codemirror_mode": {
        "name": "ipython",
        "version": 3
      },
      "file_extension": ".py",
      "mimetype": "text/x-python",
      "name": "python",
      "nbconvert_exporter": "python",
      "pygments_lexer": "ipython3",
      "version": "3.7.3"
    },
    "accelerator": "GPU"
  },
  "cells": [
    {
      "cell_type": "markdown",
      "metadata": {
        "id": "view-in-github",
        "colab_type": "text"
      },
      "source": [
        "<a href=\"https://colab.research.google.com/github/ucfilho/raianars_DE_renewed/blob/master/DE_OPTIM_decide_renewed.ipynb\" target=\"_parent\"><img src=\"https://colab.research.google.com/assets/colab-badge.svg\" alt=\"Open In Colab\"/></a>"
      ]
    },
    {
      "cell_type": "code",
      "metadata": {
        "colab_type": "code",
        "id": "VNDZTKWUBOge",
        "outputId": "cbf8c109-ca21-468c-93f3-d5a32f7c230f",
        "colab": {
          "base_uri": "https://localhost:8080/",
          "height": 126
        }
      },
      "source": [
        "############################### Importar códigos\n",
        "\n",
        "!git clone https://github.com/ucfilho/raianars_DE_renewed/ #clonar do Github"
      ],
      "execution_count": 1,
      "outputs": [
        {
          "output_type": "stream",
          "text": [
            "Cloning into 'raianars_DE_renewed'...\n",
            "remote: Enumerating objects: 48, done.\u001b[K\n",
            "remote: Counting objects: 100% (48/48), done.\u001b[K\n",
            "remote: Compressing objects: 100% (46/46), done.\u001b[K\n",
            "remote: Total 48 (delta 23), reused 0 (delta 0), pack-reused 0\u001b[K\n",
            "Unpacking objects: 100% (48/48), done.\n"
          ],
          "name": "stdout"
        }
      ]
    },
    {
      "cell_type": "code",
      "metadata": {
        "colab_type": "code",
        "id": "btZL0H3XBPx-",
        "outputId": "ed37ea0f-3752-433d-c9f7-faf9875248c9",
        "colab": {
          "base_uri": "https://localhost:8080/",
          "height": 35
        }
      },
      "source": [
        "%cd raianars_DE_renewed\n",
        "# !ls"
      ],
      "execution_count": 2,
      "outputs": [
        {
          "output_type": "stream",
          "text": [
            "/content/raianars_DE_renewed\n"
          ],
          "name": "stdout"
        }
      ]
    },
    {
      "cell_type": "code",
      "metadata": {
        "id": "B7iwhNIlDXv2",
        "colab_type": "code",
        "colab": {}
      },
      "source": [
        "############################### Importar bibliotecas e iniciar a contagem do tempo\n",
        "import time\n",
        "import matplotlib.pyplot as plt\n",
        "import numpy as np\n",
        "from random import randint\n",
        "from scipy import optimize\n",
        "import de_bounds_matriz\n",
        "import de_soma_renewed\n",
        "import Get_Index\n",
        "import pandas as pd\n",
        "###############################"
      ],
      "execution_count": 0,
      "outputs": []
    },
    {
      "cell_type": "code",
      "metadata": {
        "colab_type": "code",
        "id": "BDMwd41C5ahQ",
        "colab": {}
      },
      "source": [
        "def fobj_de(x):\n",
        "  global MAX,MIN, mut, crossp, NPAR, its,Fun,X,SOMA,TOTAL,ITE,PARTIC,BUSCA,Fc\n",
        "  popsize=len(PARTIC)\n",
        "  #x=PARTIC\n",
        "  #print(MAX);print(MIN)\n",
        "  ind_mut=ITE-1\n",
        "  ind_crossp=2*ITE-1\n",
        "  OTIMO=1e99\n",
        "  Xo=[]\n",
        "  Xo=np.copy(X)\n",
        "  DIo=1e99 # start process\n",
        "  DIr,DIo=Get_Index.Di_rel(X,DIo)\n",
        "  xp=np.copy(PARTIC)#  ???????\n",
        "\n",
        "  for j in range(popsize):\n",
        "    xp=PARTIC[j] # ???????\n",
        "    X=np.copy(Xo)\n",
        "    for k in range(ITE):\n",
        "      imut=ind_mut+k\n",
        "      icrossp=ind_crossp+k\n",
        "      #print(\"ind_mut\",ind_mut)\n",
        "      #print(\"ind_crossp\",ind_crossp)\n",
        "      #print(\"x\",x)\n",
        "      #print(\"k=\",k)\n",
        "      #print(xp)\n",
        "      NPAR=np.copy(int(xp[k]))\n",
        "      # NPAR=np.copy(int(xp))\n",
        "      #print(\"NPAR=\",NPAR)\n",
        "      Fo=np.copy(xp[imut])\n",
        "      CRo=np.copy(xp[icrossp])\n",
        "      y_cod_F=Fr;y_cod_CR=Cr;\n",
        "\n",
        "      DIr,DI=Get_Index.Di_rel(X,DIo)\n",
        "\n",
        "      mut,crossp=Get_Index.Adjust_F_CR(DIr,Fo,CRo,y_cod_F,y_cod_CR,Fc)\n",
        "\n",
        "      X,BEST,FOBEST,XY,BEST_XY,SOMA= de_soma_renewed.de(MAX,MIN, mut, crossp, \n",
        "                                                            NPAR, its,Fun,X,SOMA,\n",
        "                                                            TOTAL)\n",
        "      if(FOBEST<OTIMO):\n",
        "        OTIMO=FOBEST\n",
        "        PARTIC_best=xp\n",
        "        Xresp=BEST\n",
        "\n",
        "        \n",
        "      #print(\"=== ++++====+++++\")\n",
        "      #print(BEST)\n",
        "      #print(PARTIC)\n",
        "      \n",
        "    #print(X)\n",
        "    Nomes=['OTIMO','PARTIC_best','Xresp']\n",
        "    BUSCA=pd.Series([OTIMO,PARTIC_best,Xresp],index=Nomes )\n",
        "    #print(BUSCA[1])\n",
        "    \n",
        "  return FOBEST"
      ],
      "execution_count": 0,
      "outputs": []
    },
    {
      "cell_type": "code",
      "metadata": {
        "colab_type": "code",
        "id": "v1OxgXboBKoG",
        "colab": {}
      },
      "source": [
        "############################### DADOS DE ENTRADA \n",
        "RUNS=1 #NÚMERO DE RODADAS\n",
        "#mut=0.8\n",
        "#crossp=0.7\n",
        "  ############################### Função\n",
        "import Function\n",
        "\n",
        "'''\n",
        "Fun=Function.Rosenbrock\n",
        "dim=30\n",
        "MAX=np.repeat(10,dim)\n",
        "MIN=np.repeat(-10,dim)\n",
        "\n",
        "  #Global optimum: f(xi)= 0\n",
        "'''\n",
        "'''\n",
        "dim=30\n",
        "Fun=Function.Sphere\n",
        "MAX=np.repeat(5.12,dim)\n",
        "MIN=np.repeat(-5.12,dim)\n",
        "  # f(x)=0 x=(0,0) [-5.12,5.12]\n",
        "'''\n",
        "#'''\n",
        "dim=2\n",
        "Fun=Function.Schwefel\n",
        "MAX=np.repeat(500,dim)\n",
        "MIN=np.repeat(-500,dim)\n",
        "  #Global optimum: f(xi)= 0 for xi = 420.968746 for i=1,...,n  ;  xi in [-500,500]  \n",
        "#'''\n",
        "'''\n",
        "dim=30\n",
        "Fun=Function.Rastrigin\n",
        "MAX=np.repeat(5.12,dim)\n",
        "MIN=np.repeat(-5.12,dim)\n",
        "  # f(x)=0 x=(0,0) [-5.12,5.12]\n",
        "'''\n",
        "'''\n",
        "dim=30\n",
        "Fun=Function.Sum_of_different_powers\n",
        "MAX=np.repeat(1,dim)\n",
        "MIN=np.repeat(-1,dim)\n",
        "  # f(x)=0 x=(0,0)\n",
        "'''\n",
        "'''  \n",
        "dim=30\n",
        "Fun=Function.Ackley\n",
        "MAX=np.repeat(32,dim)\n",
        "MIN=np.repeat(-32,dim)\n",
        " # f(x)=0 x=(0,0) [-32, 32]\n",
        "'''\n",
        "'''  \n",
        "dim=30\n",
        "Fun=Function.Michalewicz\n",
        "MAX=np.repeat(np.pi,dim)\n",
        "MIN=np.repeat(0,dim)\n",
        " #fx=-9.66015 p/ d=10 [0,pi]\n",
        "'''\n",
        "'''  \n",
        "dim=30\n",
        "Fun=Function.\n",
        "MAX=np.repeat(1,dim)\n",
        "MIN=np.repeat(-1,dim)\n",
        "'''\n",
        "\n",
        "PAR=len(MAX) #NUM DE PARAMETROS A SER OTIMIZADOS\n"
      ],
      "execution_count": 0,
      "outputs": []
    },
    {
      "cell_type": "code",
      "metadata": {
        "id": "Mb3LmbSmj9v7",
        "colab_type": "code",
        "outputId": "7d28caea-43f0-4602-f0dc-905a156e5934",
        "colab": {
          "base_uri": "https://localhost:8080/",
          "height": 217
        }
      },
      "source": [
        "##################################### IMPORTAR MÓDULOS\n",
        "\n",
        "\n",
        "Fc=0.05 # usa para corrigir o CR e F quando sao negativos (valor minimo)\n",
        "NMAX=1000 # maximo tamanho da populacao\n",
        "\n",
        "dimensions=len(MAX)\n",
        "\n",
        "start_time = time.time() #INICIALIZA CONTAGEM DO TEMPO\n",
        "its=10 # quantas vezes vai usar o NPAR antes de alterar de novo\n",
        "ITE=10 # PONTOS quantas vezes vai alteral NPAR \n",
        "#PARTIC=[10,80,10,400,100,100,100,100,100,100]\n",
        "#ITE=50 # so para testar\n",
        "\n",
        "#TOTAL=7*dim*its*ITE\n",
        "TOTAL=10*dim*its*ITE\n",
        "\n",
        "maxiter=3\n",
        "popsize=5\n",
        "p=int(TOTAL/its/ITE) \n",
        "\n",
        "#PARTIC=np.zeros(ITE) # porque isto se eh redefinido mais em baixo e nao eh usado aqui\n",
        "MAX_P=np.zeros(ITE) # ATENCAO para variar F e Cr MAX_P passa a ser 3 vezes maior\n",
        "MIN_P=np.zeros(ITE) # ATENCAO para variar F e Cr  MIN_P passa a ser 3 vezes maior\n",
        "\n",
        "for i in range(dim):\n",
        "  MAX_P[i]=MAX[i] \n",
        "  MIN_P[i]=MIN[i]\n",
        "\n",
        "\n",
        "for i in range(RUNS):\n",
        "  SOMA=0\n",
        "  pop = np.random.rand(NMAX, dimensions)\n",
        "  diff=np.zeros(PAR)\n",
        "  for ii in range(PAR):\n",
        "    diff[ii] = MAX[ii]-MIN[ii]\n",
        "  X = MIN + pop * diff\n",
        "    \n",
        "  PONTOS=ITE # DIVISOES DA POPULACAO\n",
        " \n",
        " ############################################################\n",
        "  #bounds=[(5*dim, 15*dim)] * PONTOS # ITE\n",
        "  #bounds=[(3*dim, 12*dim)] * PONTOS # ITE\n",
        "  #bounds=[(4*dim, 16*dim)] * PONTOS\n",
        "  \n",
        "  # nao pode ser assim pq o bounds vale p o DE nao dos parametros\n",
        "  #p=int(TOTAL/its/ITE) \n",
        "  bounds=[(p, p)] * PONTOS\n",
        "  #bounds=[]\n",
        "  #for k in range(dim):\n",
        "  #  bounds.append((MIN[k], MAX[k]))\n",
        "  # print(\"=========bounds=\",bounds)\n",
        "    \n",
        "\n",
        "\n",
        "  #'''\n",
        "  #Geral\n",
        "  new_mut=(-1,1)\n",
        "  new_crossp=(-1,1)\n",
        "  #'''\n",
        "  '''\n",
        "  #Multimodal Separável \n",
        "  new_mut=(0.5,1)\n",
        "  new_crossp=(0,0.5)\n",
        "  '''\n",
        "  '''\n",
        "  #Multimodal Não Separável \n",
        "  new_mut=(0.5,1)\n",
        "  new_crossp=(0.5,1)\n",
        "  '''\n",
        "  '''\n",
        "  ##### Unimodal Separável\n",
        "  new_mut=(0,0.5)\n",
        "  new_crossp=(0,0.5)\n",
        "  '''\n",
        "  '''\n",
        "  ##### Unimodal Não Separável\n",
        "  new_mut=(0,0.5)\n",
        "  new_crossp=(0.5,1)\n",
        "  '''\n",
        " ############################################################ \n",
        "  # nao pode ser assim pq o bounds vale p o DE nao dos parametros\n",
        "  ''' '''\n",
        "  for j in range(PONTOS):\n",
        "    bounds.append(new_mut)\n",
        "    \n",
        "  for j in range(PONTOS):\n",
        "    bounds.append(new_crossp)\n",
        "\n",
        "  #print(\"=========bounds=\",bounds)\n",
        "\n",
        "  new_mut=(0.5,1)\n",
        "  new_crossp=(0,0.5)\n",
        "  Fr=np.zeros(its)\n",
        "  Cr=np.zeros(its)\n",
        "  #for i in range(its): # conferir se eh i mesmo ou deve ser k o indice\n",
        "  #  Cr[i]=new_mut[0]+(new_mut[1]-new_mut[0])*np.random.random()\n",
        "  #  Fr[i]=new_mut[0]+(new_mut[1]-new_mut[0])*np.random.random()\n",
        "  Cr=0;Fr=0;\n",
        "  PARTIC=np.zeros((popsize,its*3))\n",
        "\n",
        "  for k in range(popsize):\n",
        "    for i in range(its):\n",
        "      Cr=new_crossp[0]+(new_crossp[1]-new_crossp[0])*np.random.random()\n",
        "      Fr=new_mut[0]+(new_mut[1]-new_mut[0])*np.random.random()\n",
        "      PARTIC[k,i]=p\n",
        "      PARTIC[k,i+10]=Fr\n",
        "      PARTIC[k,i+20]=Cr\n",
        "  #print(\"=========PARTIC=\",PARTIC)\n",
        "  mut=0.5;  crossp=0.5;popsize=len(PARTIC);\n",
        "  X_resp,BEST,FOBEST,XY,BEST_XY= de_bounds_matriz.de(bounds, mut, \n",
        "                                                   crossp,popsize, maxiter,\n",
        "                                                   fobj_de,PARTIC)\n",
        "  #X,BEST,FOBEST,XY,BEST_XY,SOMA\n",
        "  #  global MAX,MIN, mut, crossp, NPAR, its,Fun,X,SOMA,TOTAL,ITE,PARTIC\n",
        "\n",
        "  print('OTIMIZAÇÃO DE_','maxiter=',maxiter,'_ popsize=', popsize,'_ bounds=',\n",
        "        bounds[0],'_F',new_mut,'_Cr',new_crossp,'_ TOTAL=',TOTAL,'_ Dim=', \n",
        "        PAR,\"_Min/Max=\",MIN[0],\"/\",MAX[0],'_',Fun.__name__)\n",
        "  print('otimo FOBEST=',FOBEST)\n",
        "  print(\"BEST=\",BEST)\n",
        "  print(\"Soma= \",SOMA) \n",
        "#print(\"GlobalParam e Solucao:\", BEST,\"Função=\",FOBEST)     \n"
      ],
      "execution_count": 6,
      "outputs": [
        {
          "output_type": "stream",
          "text": [
            "OTIMIZAÇÃO DE_ maxiter= 3 _ popsize= 5 _ bounds= (20, 20) _F (0.5, 1) _Cr (0, 0.5) _ TOTAL= 2000 _ Dim= 2 _Min/Max= -500 / 500 _ Schwefel\n",
            "otimo FOBEST= 391.26499131943547\n",
            "BEST= [2.00000000e+01 2.00000000e+01 2.00000000e+01 2.00000000e+01\n",
            " 2.00000000e+01 2.00000000e+01 2.00000000e+01 2.00000000e+01\n",
            " 2.00000000e+01 2.00000000e+01 6.80873429e-01 7.96238190e-01\n",
            " 8.26017368e-01 6.53709117e-01 9.64807448e-01 9.48512972e-01\n",
            " 7.60715820e-01 8.57848748e-01 7.63781155e-01 6.24141447e-01\n",
            " 5.28938584e-02 1.91168031e-01 9.61423320e-02 2.55582201e-03\n",
            " 4.37350346e-01 4.85955136e-01 2.03487593e-01 4.47737692e-01\n",
            " 4.40468254e-02 1.99222055e-01]\n",
            "Soma=  2001\n"
          ],
          "name": "stdout"
        }
      ]
    },
    {
      "cell_type": "code",
      "metadata": {
        "id": "RWK5ZD-gt5uK",
        "colab_type": "code",
        "outputId": "7bd5c49d-c77e-46ae-dd9b-320908122834",
        "colab": {
          "base_uri": "https://localhost:8080/",
          "height": 254
        }
      },
      "source": [
        "print(BUSCA)\n",
        "print(\"=== resultado da otimizacao NP,F,Cr======\")\n",
        "print(BUSCA[1])"
      ],
      "execution_count": 7,
      "outputs": [
        {
          "output_type": "stream",
          "text": [
            "OTIMO                                                    391.265\n",
            "PARTIC_best    [20.0, 20.0, 20.0, 20.0, 20.0, 20.0, 20.0, 20....\n",
            "Xresp                   [-151.00479116629595, 431.4029587355874]\n",
            "dtype: object\n",
            "=== resultado da otimizacao NP,F,Cr======\n",
            "[2.00000000e+01 2.00000000e+01 2.00000000e+01 2.00000000e+01\n",
            " 2.00000000e+01 2.00000000e+01 2.00000000e+01 2.00000000e+01\n",
            " 2.00000000e+01 2.00000000e+01 6.80873429e-01 7.96238190e-01\n",
            " 8.26017368e-01 6.53709117e-01 9.64807448e-01 9.48512972e-01\n",
            " 7.60715820e-01 8.57848748e-01 7.63781155e-01 6.24141447e-01\n",
            " 5.28938584e-02 1.91168031e-01 9.61423320e-02 2.55582201e-03\n",
            " 4.37350346e-01 4.85955136e-01 2.03487593e-01 4.47737692e-01\n",
            " 4.40468254e-02 1.99222055e-01]\n"
          ],
          "name": "stdout"
        }
      ]
    },
    {
      "cell_type": "code",
      "metadata": {
        "id": "ccM1jx_Jg3bA",
        "colab_type": "code",
        "outputId": "aab24dd6-ea45-441b-be26-01befa61ea71",
        "colab": {
          "base_uri": "https://localhost:8080/",
          "height": 35
        }
      },
      "source": [
        "#print(PARTIC)\n",
        "x=PARTIC[0]\n",
        "print(x[10])"
      ],
      "execution_count": 8,
      "outputs": [
        {
          "output_type": "stream",
          "text": [
            "0.6808734292843284\n"
          ],
          "name": "stdout"
        }
      ]
    },
    {
      "cell_type": "code",
      "metadata": {
        "id": "QUaj8SGXaU_l",
        "colab_type": "code",
        "outputId": "625752b4-906c-4d4e-da28-275e298b7c94",
        "colab": {
          "base_uri": "https://localhost:8080/",
          "height": 745
        }
      },
      "source": [
        "print(X_resp)"
      ],
      "execution_count": 9,
      "outputs": [
        {
          "output_type": "stream",
          "text": [
            "[[2.00000000e+01 2.00000000e+01 2.00000000e+01 2.00000000e+01\n",
            "  2.00000000e+01 2.00000000e+01 2.00000000e+01 2.00000000e+01\n",
            "  2.00000000e+01 2.00000000e+01 6.80873429e-01 7.96238190e-01\n",
            "  8.26017368e-01 6.53709117e-01 9.64807448e-01 9.48512972e-01\n",
            "  7.60715820e-01 8.57848748e-01 7.63781155e-01 6.24141447e-01\n",
            "  5.28938584e-02 1.91168031e-01 9.61423320e-02 2.55582201e-03\n",
            "  4.37350346e-01 4.85955136e-01 2.03487593e-01 4.47737692e-01\n",
            "  4.40468254e-02 1.99222055e-01]\n",
            " [2.00000000e+01 2.00000000e+01 2.00000000e+01 2.00000000e+01\n",
            "  2.00000000e+01 2.00000000e+01 2.00000000e+01 2.00000000e+01\n",
            "  2.00000000e+01 2.00000000e+01 5.25568362e-01 9.00631808e-01\n",
            "  6.15760931e-01 6.33338959e-01 9.19921838e-01 5.28416081e-01\n",
            "  8.04666807e-01 9.68658354e-01 6.22354817e-01 7.44761000e-01\n",
            "  2.34379812e-01 1.55254360e-01 4.75387161e-01 4.24342045e-01\n",
            "  4.48978055e-01 3.88340232e-01 1.09690372e-01 9.72577077e-02\n",
            "  9.48530054e-02 1.81013161e-01]\n",
            " [2.00000000e+01 2.00000000e+01 2.00000000e+01 2.00000000e+01\n",
            "  2.00000000e+01 2.00000000e+01 2.00000000e+01 2.00000000e+01\n",
            "  2.00000000e+01 2.00000000e+01 8.46783933e-01 6.22749222e-01\n",
            "  9.66263392e-01 8.48105988e-01 5.66285501e-01 8.10201177e-01\n",
            "  5.92255255e-01 7.07615107e-01 6.68129487e-01 8.27493732e-01\n",
            "  4.98750141e-01 1.97006287e-01 1.40962606e-01 1.16789071e-01\n",
            "  3.97876349e-01 2.84021579e-01 3.76131128e-01 3.68827011e-01\n",
            "  2.74677961e-01 3.86372693e-02]\n",
            " [2.00000000e+01 2.00000000e+01 2.00000000e+01 2.00000000e+01\n",
            "  2.00000000e+01 2.00000000e+01 2.00000000e+01 2.00000000e+01\n",
            "  2.00000000e+01 2.00000000e+01 7.78984078e-01 9.99731654e-01\n",
            "  6.13055140e-01 7.27380714e-01 9.32658667e-01 8.62146415e-01\n",
            "  7.29092612e-01 5.32913222e-01 9.61734519e-01 8.33067343e-01\n",
            "  4.67362581e-01 4.43062072e-01 5.39523863e-02 5.40393261e-02\n",
            "  1.90000588e-02 7.34261732e-02 4.24191991e-01 4.11800827e-01\n",
            "  5.69090787e-02 1.30059239e-02]\n",
            " [2.00000000e+01 2.00000000e+01 2.00000000e+01 2.00000000e+01\n",
            "  2.00000000e+01 2.00000000e+01 2.00000000e+01 2.00000000e+01\n",
            "  2.00000000e+01 2.00000000e+01 7.72155338e-01 6.49270595e-01\n",
            "  9.38445841e-01 6.84845417e-01 5.66652174e-01 8.41583879e-01\n",
            "  7.34898875e-01 9.85873079e-01 9.37201363e-01 6.12043170e-01\n",
            "  4.42511268e-01 4.06311050e-01 2.62143183e-02 3.57356007e-01\n",
            "  4.46261106e-01 3.75380232e-01 7.17676734e-02 4.65426680e-01\n",
            "  1.22788353e-01 6.54892132e-03]]\n"
          ],
          "name": "stdout"
        }
      ]
    },
    {
      "cell_type": "code",
      "metadata": {
        "id": "AbzYBQrAa8FN",
        "colab_type": "code",
        "outputId": "b6cb4442-a0c0-41a0-ed8e-6c7324653156",
        "colab": {
          "base_uri": "https://localhost:8080/",
          "height": 163
        }
      },
      "source": [
        "print(BEST_XY)"
      ],
      "execution_count": 10,
      "outputs": [
        {
          "output_type": "stream",
          "text": [
            "[2.00000000e+01 2.00000000e+01 2.00000000e+01 2.00000000e+01\n",
            " 2.00000000e+01 2.00000000e+01 2.00000000e+01 2.00000000e+01\n",
            " 2.00000000e+01 2.00000000e+01 6.80873429e-01 7.96238190e-01\n",
            " 8.26017368e-01 6.53709117e-01 9.64807448e-01 9.48512972e-01\n",
            " 7.60715820e-01 8.57848748e-01 7.63781155e-01 6.24141447e-01\n",
            " 5.28938584e-02 1.91168031e-01 9.61423320e-02 2.55582201e-03\n",
            " 4.37350346e-01 4.85955136e-01 2.03487593e-01 4.47737692e-01\n",
            " 4.40468254e-02 1.99222055e-01 3.91264991e+02]\n"
          ],
          "name": "stdout"
        }
      ]
    },
    {
      "cell_type": "code",
      "metadata": {
        "id": "IM4Z1313Kcqh",
        "colab_type": "code",
        "outputId": "97c2ef14-fe68-41fa-e061-92c4da1dc40d",
        "colab": {
          "base_uri": "https://localhost:8080/",
          "height": 163
        }
      },
      "source": [
        "BEST"
      ],
      "execution_count": 11,
      "outputs": [
        {
          "output_type": "execute_result",
          "data": {
            "text/plain": [
              "array([2.00000000e+01, 2.00000000e+01, 2.00000000e+01, 2.00000000e+01,\n",
              "       2.00000000e+01, 2.00000000e+01, 2.00000000e+01, 2.00000000e+01,\n",
              "       2.00000000e+01, 2.00000000e+01, 6.80873429e-01, 7.96238190e-01,\n",
              "       8.26017368e-01, 6.53709117e-01, 9.64807448e-01, 9.48512972e-01,\n",
              "       7.60715820e-01, 8.57848748e-01, 7.63781155e-01, 6.24141447e-01,\n",
              "       5.28938584e-02, 1.91168031e-01, 9.61423320e-02, 2.55582201e-03,\n",
              "       4.37350346e-01, 4.85955136e-01, 2.03487593e-01, 4.47737692e-01,\n",
              "       4.40468254e-02, 1.99222055e-01])"
            ]
          },
          "metadata": {
            "tags": []
          },
          "execution_count": 11
        }
      ]
    },
    {
      "cell_type": "code",
      "metadata": {
        "id": "aPls7UosX4or",
        "colab_type": "code",
        "outputId": "2d99ea36-a262-4cc6-84bf-c6e97823f53a",
        "colab": {
          "base_uri": "https://localhost:8080/",
          "height": 35
        }
      },
      "source": [
        "print(TOTAL)"
      ],
      "execution_count": 12,
      "outputs": [
        {
          "output_type": "stream",
          "text": [
            "2000\n"
          ],
          "name": "stdout"
        }
      ]
    },
    {
      "cell_type": "code",
      "metadata": {
        "id": "9k1MgL3u1q_B",
        "colab_type": "code",
        "outputId": "25ff0973-b6a6-4b08-e116-169ab34ce6fe",
        "colab": {
          "base_uri": "https://localhost:8080/",
          "height": 35
        }
      },
      "source": [
        "TIME = (time.time() - start_time)\n",
        "print(TIME/60,'minutos')"
      ],
      "execution_count": 13,
      "outputs": [
        {
          "output_type": "stream",
          "text": [
            "0.5117352803548177 minutos\n"
          ],
          "name": "stdout"
        }
      ]
    },
    {
      "cell_type": "code",
      "metadata": {
        "id": "IJV62yE7vl1K",
        "colab_type": "code",
        "outputId": "32343aa1-347a-4643-d395-b7daf73615e3",
        "colab": {
          "base_uri": "https://localhost:8080/",
          "height": 55
        }
      },
      "source": [
        "BEST=BEST.tolist()\n",
        "print('PARTIC=[',end = '')\n",
        "for i in range(len(BEST)):\n",
        "  if i<ITE:\n",
        "    print(int(BEST[i]),',',end = '')\n",
        "  else:\n",
        "    print(BEST[i],',',end = '')\n",
        "print(']',end = '')"
      ],
      "execution_count": 14,
      "outputs": [
        {
          "output_type": "stream",
          "text": [
            "PARTIC=[20 ,20 ,20 ,20 ,20 ,20 ,20 ,20 ,20 ,20 ,0.6808734292843284 ,0.7962381901758789 ,0.8260173684170303 ,0.6537091174751624 ,0.9648074484892111 ,0.9485129719822872 ,0.76071582013971 ,0.8578487483783204 ,0.7637811545117847 ,0.6241414473272199 ,0.05289385835783228 ,0.19116803146351935 ,0.09614233196263983 ,0.002555822005145758 ,0.4373503455201437 ,0.485955136010381 ,0.20348759343231204 ,0.4477376924310401 ,0.044046825382224875 ,0.1992220549101208 ,]"
          ],
          "name": "stdout"
        }
      ]
    }
  ]
}